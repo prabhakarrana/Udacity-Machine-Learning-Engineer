{
 "cells": [
  {
   "cell_type": "markdown",
   "metadata": {},
   "source": [
    "# Project: Train a Quadcopter How to Fly\n",
    "\n",
    "Design an agent to fly a quadcopter, and then train it using a reinforcement learning algorithm of your choice! \n",
    "\n",
    "Try to apply the techniques you have learnt, but also feel free to come up with innovative ideas and test them."
   ]
  },
  {
   "cell_type": "markdown",
   "metadata": {},
   "source": [
    "## Instructions\n",
    "\n",
    "Take a look at the files in the directory to better understand the structure of the project. \n",
    "\n",
    "- `task.py`: Define your task (environment) in this file.\n",
    "- `agents/`: Folder containing reinforcement learning agents.\n",
    "    - `policy_search.py`: A sample agent has been provided here.\n",
    "    - `agent.py`: Develop your agent here.\n",
    "- `physics_sim.py`: This file contains the simulator for the quadcopter.  **DO NOT MODIFY THIS FILE**.\n",
    "\n",
    "For this project, you will define your own task in `task.py`.  Although we have provided a example task to get you started, you are encouraged to change it.  Later in this notebook, you will learn more about how to amend this file.\n",
    "\n",
    "You will also design a reinforcement learning agent in `agent.py` to complete your chosen task.  \n",
    "\n",
    "You are welcome to create any additional files to help you to organize your code.  For instance, you may find it useful to define a `model.py` file defining any needed neural network architectures.\n",
    "\n",
    "## Controlling the Quadcopter\n",
    "\n",
    "We provide a sample agent in the code cell below to show you how to use the sim to control the quadcopter.  This agent is even simpler than the sample agent that you'll examine (in `agents/policy_search.py`) later in this notebook!\n",
    "\n",
    "The agent controls the quadcopter by setting the revolutions per second on each of its four rotors.  The provided agent in the `Basic_Agent` class below always selects a random action for each of the four rotors.  These four speeds are returned by the `act` method as a list of four floating-point numbers.  \n",
    "\n",
    "For this project, the agent that you will implement in `agents/agent.py` will have a far more intelligent method for selecting actions!"
   ]
  },
  {
   "cell_type": "code",
   "execution_count": 1,
   "metadata": {},
   "outputs": [],
   "source": [
    "import random\n",
    "\n",
    "class Basic_Agent():\n",
    "    def __init__(self, task):\n",
    "        self.task = task\n",
    "    \n",
    "    def act(self):\n",
    "        new_thrust = random.gauss(450., 25.)\n",
    "        return [new_thrust + random.gauss(0., 1.) for x in range(4)]"
   ]
  },
  {
   "cell_type": "markdown",
   "metadata": {},
   "source": [
    "Run the code cell below to have the agent select actions to control the quadcopter.  \n",
    "\n",
    "Feel free to change the provided values of `runtime`, `init_pose`, `init_velocities`, and `init_angle_velocities` below to change the starting conditions of the quadcopter.\n",
    "\n",
    "The `labels` list below annotates statistics that are saved while running the simulation.  All of this information is saved in a text file `data.txt` and stored in the dictionary `results`.  "
   ]
  },
  {
   "cell_type": "code",
   "execution_count": 2,
   "metadata": {},
   "outputs": [
    {
     "name": "stdout",
     "output_type": "stream",
     "text": [
      "18\n",
      "2.99840735308\n",
      "still have time\n",
      "18\n",
      "2.99101365373\n",
      "still have time\n",
      "18\n",
      "2.97738646894\n",
      "still have time\n",
      "18\n",
      "2.95917035764\n",
      "still have time\n",
      "18\n",
      "2.93551598704\n",
      "still have time\n",
      "18\n",
      "2.90492413973\n",
      "still have time\n",
      "18\n",
      "2.86822331599\n",
      "still have time\n",
      "18\n",
      "2.82382830021\n",
      "still have time\n",
      "18\n",
      "2.77406372561\n",
      "still have time\n",
      "18\n",
      "2.71682479358\n",
      "still have time\n",
      "18\n",
      "2.65379057349\n",
      "still have time\n",
      "18\n",
      "2.58666552094\n",
      "still have time\n",
      "18\n",
      "2.51029733677\n",
      "still have time\n",
      "18\n",
      "2.41931956184\n",
      "still have time\n",
      "18\n",
      "2.31993685393\n",
      "still have time\n",
      "18\n",
      "2.21745414529\n",
      "still have time\n",
      "18\n",
      "2.10957238259\n",
      "still have time\n",
      "18\n",
      "1.99769365562\n",
      "still have time\n",
      "18\n",
      "1.87929403233\n",
      "still have time\n",
      "18\n",
      "1.75517244482\n",
      "still have time\n",
      "18\n",
      "1.62905314638\n",
      "still have time\n",
      "18\n",
      "1.49489731374\n",
      "still have time\n",
      "18\n",
      "1.34799787852\n",
      "still have time\n",
      "18\n",
      "1.18881129056\n",
      "still have time\n",
      "18\n",
      "1.01979200142\n",
      "still have time\n",
      "18\n",
      "0.842672520857\n",
      "still have time\n",
      "18\n",
      "0.66117806424\n",
      "still have time\n",
      "18\n",
      "0.477216735259\n",
      "still have time\n",
      "18\n",
      "0.288288549116\n",
      "still have time\n",
      "18\n",
      "0.0937825698501\n",
      "still have time\n",
      "18\n",
      "-0.105032403526\n",
      "still have time\n",
      "18\n",
      "-0.31225196674\n",
      "still have time\n",
      "18\n",
      "-0.533530933434\n",
      "still have time\n",
      "18\n",
      "-0.763398442705\n",
      "still have time\n",
      "18\n",
      "-0.999069127025\n",
      "still have time\n",
      "18\n",
      "-1.23934083961\n",
      "still have time\n",
      "18\n",
      "-1.48891325908\n",
      "still have time\n",
      "18\n",
      "-1.75157233869\n",
      "still have time\n",
      "18\n",
      "-2.02205971067\n",
      "still have time\n",
      "18\n",
      "-2.29789719693\n",
      "still have time\n",
      "18\n",
      "-2.57841021611\n",
      "still have time\n",
      "18\n",
      "-2.86683963716\n",
      "still have time\n",
      "18\n",
      "-3.16906780634\n",
      "still have time\n",
      "18\n",
      "-3.48864201118\n",
      "still have time\n",
      "18\n",
      "-3.8111306312\n",
      "still have time\n",
      "18\n",
      "-4.13938072305\n",
      "still have time\n",
      "18\n",
      "-4.47540543003\n",
      "still have time\n",
      "18\n",
      "-4.82435774556\n",
      "still have time\n",
      "18\n",
      "-5.18089429868\n",
      "still have time\n",
      "18\n",
      "-5.55003622721\n",
      "still have time\n",
      "18\n",
      "-5.93261027037\n",
      "still have time\n",
      "18\n",
      "-6.32715991329\n",
      "still have time\n",
      "18\n",
      "-6.73312850494\n",
      "still have time\n",
      "18\n",
      "-7.14861150621\n",
      "still have time\n",
      "18\n",
      "-7.57339758688\n",
      "still have time\n",
      "18\n",
      "-8.00774642731\n",
      "still have time\n",
      "18\n",
      "-8.44650538115\n",
      "still have time\n",
      "18\n",
      "-8.88586885044\n",
      "still have time\n",
      "18\n",
      "-9.3292199532\n",
      "still have time\n",
      "18\n",
      "-9.78352950901\n",
      "still have time\n",
      "18\n",
      "-10.244494399\n",
      "still have time\n",
      "18\n",
      "-10.7107624604\n",
      "still have time\n",
      "18\n",
      "-11.1888896543\n",
      "still have time\n",
      "18\n",
      "-11.6761000595\n",
      "still have time\n",
      "18\n",
      "-12.1820479296\n",
      "still have time\n",
      "18\n",
      "-12.7061520086\n",
      "still have time\n",
      "18\n",
      "-13.2390903489\n",
      "still have time\n",
      "18\n",
      "-13.7840097316\n",
      "still have time\n",
      "18\n",
      "-14.3378628567\n",
      "still have time\n",
      "18\n",
      "-14.903088927\n",
      "still have time\n",
      "18\n",
      "-15.4839685331\n",
      "still have time\n",
      "18\n",
      "-16.0822935714\n",
      "still have time\n",
      "18\n",
      "-16.6902415364\n",
      "still have time\n",
      "18\n",
      "-17.305033492\n",
      "still have time\n",
      "18\n",
      "-17.9234998591\n",
      "still have time\n",
      "18\n",
      "-18.5421890229\n",
      "still have time\n",
      "18\n",
      "-19.1641570102\n",
      "still have time\n",
      "18\n",
      "-19.791113179\n",
      "still have time\n",
      "18\n",
      "-20.4229514259\n",
      "still have time\n",
      "18\n",
      "-21.0612670218\n",
      "still have time\n",
      "18\n",
      "-21.7050703997\n",
      "still have time\n",
      "18\n",
      "-22.3564784049\n",
      "still have time\n",
      "18\n",
      "-23.0147860405\n",
      "still have time\n",
      "18\n",
      "-23.6796472465\n",
      "still have time\n"
     ]
    }
   ],
   "source": [
    "%load_ext autoreload\n",
    "%autoreload 2\n",
    "\n",
    "import csv\n",
    "import numpy as np\n",
    "from task import Task\n",
    "\n",
    "# Modify the values below to give the quadcopter a different starting position.\n",
    "runtime = 5.                                     # time limit of the episode\n",
    "init_pose = np.array([0., 0., 10., 0., 0., 0.])  # initial pose\n",
    "init_velocities = np.array([0., 0., 0.])         # initial velocities\n",
    "init_angle_velocities = np.array([0., 0., 0.])   # initial angle velocities\n",
    "file_output = 'data.txt'                         # file name for saved results\n",
    "\n",
    "# Setup\n",
    "task = Task(init_pose, init_velocities, init_angle_velocities, runtime)\n",
    "agent = Basic_Agent(task)\n",
    "done = False\n",
    "labels = ['time', 'x', 'y', 'z', 'phi', 'theta', 'psi', 'x_velocity',\n",
    "          'y_velocity', 'z_velocity', 'phi_velocity', 'theta_velocity',\n",
    "          'psi_velocity', 'rotor_speed1', 'rotor_speed2', 'rotor_speed3', 'rotor_speed4']\n",
    "results = {x : [] for x in labels}\n",
    "\n",
    "# Run the simulation, and save the results.\n",
    "with open(file_output, 'w') as csvfile:\n",
    "    writer = csv.writer(csvfile)\n",
    "    writer.writerow(labels)\n",
    "    while True:\n",
    "        rotor_speeds = agent.act()\n",
    "        x, y, done = task.step(rotor_speeds)\n",
    "        to_write = [task.sim.time] + list(task.sim.pose) + list(task.sim.v) + list(task.sim.angular_v) + list(rotor_speeds)\n",
    "        print(len(x))\n",
    "        print(y)\n",
    "        if done!=\"True\":\n",
    "            print(\"still have time\")\n",
    "        for ii in range(len(labels)):\n",
    "            results[labels[ii]].append(to_write[ii])\n",
    "        writer.writerow(to_write)\n",
    "        if done:\n",
    "            break"
   ]
  },
  {
   "cell_type": "code",
   "execution_count": 3,
   "metadata": {},
   "outputs": [
    {
     "name": "stdout",
     "output_type": "stream",
     "text": [
      "[  4.94980125   4.96438152  30.22650452   0.1566047    6.2366752    0.\n",
      "   5.00716548   5.04242614  30.34032786   0.15499893   6.23878604   0.\n",
      "   5.06463984   5.12097293  30.45393693   0.15353296   6.24074514   0.        ]\n",
      "5.099999999999979\n",
      "True\n"
     ]
    }
   ],
   "source": [
    "rotor_speeds = agent.act()\n",
    "x, y, done = task.step(rotor_speeds)\n",
    "print(x)\n",
    "print(task.sim.time)\n",
    "print(done)"
   ]
  },
  {
   "cell_type": "markdown",
   "metadata": {},
   "source": [
    "Run the code cell below to visualize how the position of the quadcopter evolved during the simulation."
   ]
  },
  {
   "cell_type": "code",
   "execution_count": 4,
   "metadata": {},
   "outputs": [
    {
     "data": {
      "image/png": "[encoded data removed]",
      "text/plain": [
       "<matplotlib.figure.Figure at 0x7f1e5c189048>"
      ]
     },
     "metadata": {
      "needs_background": "light"
     },
     "output_type": "display_data"
    }
   ],
   "source": [
    "import matplotlib.pyplot as plt\n",
    "%matplotlib inline\n",
    "\n",
    "plt.plot(results['time'], results['x'], label='x')\n",
    "plt.plot(results['time'], results['y'], label='y')\n",
    "plt.plot(results['time'], results['z'], label='z')\n",
    "plt.legend()\n",
    "_ = plt.ylim()"
   ]
  },
  {
   "cell_type": "markdown",
   "metadata": {},
   "source": [
    "The next code cell visualizes the velocity of the quadcopter."
   ]
  },
  {
   "cell_type": "code",
   "execution_count": 5,
   "metadata": {},
   "outputs": [
    {
     "data": {
      "image/png": "[encoded data removed]",
      "text/plain": [
       "<matplotlib.figure.Figure at 0x7f1e38f8aba8>"
      ]
     },
     "metadata": {
      "needs_background": "light"
     },
     "output_type": "display_data"
    }
   ],
   "source": [
    "plt.plot(results['time'], results['x_velocity'], label='x_hat')\n",
    "plt.plot(results['time'], results['y_velocity'], label='y_hat')\n",
    "plt.plot(results['time'], results['z_velocity'], label='z_hat')\n",
    "plt.legend()\n",
    "_ = plt.ylim()"
   ]
  },
  {
   "cell_type": "markdown",
   "metadata": {},
   "source": [
    "Next, you can plot the Euler angles (the rotation of the quadcopter over the $x$-, $y$-, and $z$-axes),"
   ]
  },
  {
   "cell_type": "code",
   "execution_count": 6,
   "metadata": {},
   "outputs": [
    {
     "data": {
      "image/png": "[encoded data removed]",
      "text/plain": [
       "<matplotlib.figure.Figure at 0x7f1e39013470>"
      ]
     },
     "metadata": {
      "needs_background": "light"
     },
     "output_type": "display_data"
    }
   ],
   "source": [
    "plt.plot(results['time'], results['phi'], label='phi')\n",
    "plt.plot(results['time'], results['theta'], label='theta')\n",
    "plt.plot(results['time'], results['psi'], label='psi')\n",
    "plt.legend()\n",
    "_ = plt.ylim()"
   ]
  },
  {
   "cell_type": "markdown",
   "metadata": {},
   "source": [
    "before plotting the velocities (in radians per second) corresponding to each of the Euler angles."
   ]
  },
  {
   "cell_type": "code",
   "execution_count": 7,
   "metadata": {},
   "outputs": [
    {
     "data": {
      "image/png": "[encoded data removed]",
      "text/plain": [
       "<matplotlib.figure.Figure at 0x7f1e38f6c828>"
      ]
     },
     "metadata": {
      "needs_background": "light"
     },
     "output_type": "display_data"
    }
   ],
   "source": [
    "plt.plot(results['time'], results['phi_velocity'], label='phi_velocity')\n",
    "plt.plot(results['time'], results['theta_velocity'], label='theta_velocity')\n",
    "plt.plot(results['time'], results['psi_velocity'], label='psi_velocity')\n",
    "plt.legend()\n",
    "_ = plt.ylim()"
   ]
  },
  {
   "cell_type": "markdown",
   "metadata": {},
   "source": [
    "Finally, you can use the code cell below to print the agent's choice of actions.  "
   ]
  },
  {
   "cell_type": "code",
   "execution_count": 8,
   "metadata": {},
   "outputs": [
    {
     "data": {
      "image/png": "[encoded data removed]",
      "text/plain": [
       "<matplotlib.figure.Figure at 0x7f1e38e41c88>"
      ]
     },
     "metadata": {
      "needs_background": "light"
     },
     "output_type": "display_data"
    }
   ],
   "source": [
    "plt.plot(results['time'], results['rotor_speed1'], label='Rotor 1 revolutions / second')\n",
    "plt.plot(results['time'], results['rotor_speed2'], label='Rotor 2 revolutions / second')\n",
    "plt.plot(results['time'], results['rotor_speed3'], label='Rotor 3 revolutions / second')\n",
    "plt.plot(results['time'], results['rotor_speed4'], label='Rotor 4 revolutions / second')\n",
    "plt.legend()\n",
    "_ = plt.ylim()"
   ]
  },
  {
   "cell_type": "markdown",
   "metadata": {},
   "source": [
    "When specifying a task, you will derive the environment state from the simulator.  Run the code cell below to print the values of the following variables at the end of the simulation:\n",
    "- `task.sim.pose` (the position of the quadcopter in ($x,y,z$) dimensions and the Euler angles),\n",
    "- `task.sim.v` (the velocity of the quadcopter in ($x,y,z$) dimensions), and\n",
    "- `task.sim.angular_v` (radians/second for each of the three Euler angles)."
   ]
  },
  {
   "cell_type": "code",
   "execution_count": 9,
   "metadata": {},
   "outputs": [
    {
     "name": "stdout",
     "output_type": "stream",
     "text": [
      "[  5.06463984   5.12097293  30.45393693   0.15353296   6.24074514   0.        ]\n",
      "[ 2.87636265  3.93980393  5.67516543]\n",
      "[-0.06753204  0.08893982  0.        ]\n"
     ]
    }
   ],
   "source": [
    "# the pose, velocity, and angular velocity of the quadcopter at the end of the episode\n",
    "print(task.sim.pose)\n",
    "print(task.sim.v)\n",
    "print(task.sim.angular_v)"
   ]
  },
  {
   "cell_type": "markdown",
   "metadata": {},
   "source": [
    "In the sample task in `task.py`, we use the 6-dimensional pose of the quadcopter to construct the state of the environment at each timestep.  However, when amending the task for your purposes, you are welcome to expand the size of the state vector by including the velocity information.  You can use any combination of the pose, velocity, and angular velocity - feel free to tinker here, and construct the state to suit your task.\n",
    "\n",
    "## The Task\n",
    "\n",
    "A sample task has been provided for you in `task.py`.  Open this file in a new window now. \n",
    "\n",
    "The `__init__()` method is used to initialize several variables that are needed to specify the task.  \n",
    "- The simulator is initialized as an instance of the `PhysicsSim` class (from `physics_sim.py`).  \n",
    "- Inspired by the methodology in the original DDPG paper, we make use of action repeats.  For each timestep of the agent, we step the simulation `action_repeats` timesteps.  If you are not familiar with action repeats, please read the **Results** section in [the DDPG paper](https://arxiv.org/abs/1509.02971).\n",
    "- We set the number of elements in the state vector.  For the sample task, we only work with the 6-dimensional pose information.  To set the size of the state (`state_size`), we must take action repeats into account.  \n",
    "- The environment will always have a 4-dimensional action space, with one entry for each rotor (`action_size=4`). You can set the minimum (`action_low`) and maximum (`action_high`) values of each entry here.\n",
    "- The sample task in this provided file is for the agent to reach a target position.  We specify that target position as a variable.\n",
    "\n",
    "The `reset()` method resets the simulator.  The agent should call this method every time the episode ends.  You can see an example of this in the code cell below.\n",
    "\n",
    "The `step()` method is perhaps the most important.  It accepts the agent's choice of action `rotor_speeds`, which is used to prepare the next state to pass on to the agent.  Then, the reward is computed from `get_reward()`.  The episode is considered done if the time limit has been exceeded, or the quadcopter has travelled outside of the bounds of the simulation.\n",
    "\n",
    "In the next section, you will learn how to test the performance of an agent on this task."
   ]
  },
  {
   "cell_type": "markdown",
   "metadata": {},
   "source": [
    "## The Agent\n",
    "\n",
    "The sample agent given in `agents/policy_search.py` uses a very simplistic linear policy to directly compute the action vector as a dot product of the state vector and a matrix of weights. Then, it randomly perturbs the parameters by adding some Gaussian noise, to produce a different policy. Based on the average reward obtained in each episode (`score`), it keeps track of the best set of parameters found so far, how the score is changing, and accordingly tweaks a scaling factor to widen or tighten the noise.\n",
    "\n",
    "Run the code cell below to see how the agent performs on the sample task."
   ]
  },
  {
   "cell_type": "code",
   "execution_count": 10,
   "metadata": {},
   "outputs": [
    {
     "name": "stdout",
     "output_type": "stream",
     "text": [
      "Episode =   10, score =  -3.830 (best =  -2.253), noise_scale = 3.255"
     ]
    }
   ],
   "source": [
    "import sys\n",
    "import pandas as pd\n",
    "from agents.policy_search import PolicySearch_Agent\n",
    "from task import Task\n",
    "\n",
    "num_episodes = 10\n",
    "target_pos = np.array([0., 0., 10.])\n",
    "task = Task(target_pos=target_pos)\n",
    "agent = PolicySearch_Agent(task) \n",
    "\n",
    "for i_episode in range(1, num_episodes+1):\n",
    "    state = agent.reset_episode() # start a new episode\n",
    "    while True:\n",
    "        #print(\"Fresh or Previous State\")\n",
    "        #print(state)\n",
    "        action = agent.act(state) \n",
    "        #print(\"Agent Action\")\n",
    "        #print(action)\n",
    "        next_state, reward, done = task.step(action)\n",
    "        #print(\" Task:  Next State\")\n",
    "        #print(next_state)\n",
    "        #print(\"Task: Reward\")\n",
    "        #print(reward)\n",
    "        #print(\"Task: Done\")\n",
    "        #print(done)\n",
    "        agent.step(reward, done)\n",
    "        state = next_state\n",
    "        if done:\n",
    "            print(\"\\rEpisode = {:4d}, score = {:7.3f} (best = {:7.3f}), noise_scale = {}\".format(\n",
    "                i_episode, agent.score, agent.best_score, agent.noise_scale), end=\"\")  # [debug]\n",
    "            break\n",
    "    sys.stdout.flush()"
   ]
  },
  {
   "cell_type": "markdown",
   "metadata": {},
   "source": [
    "This agent should perform very poorly on this task.  And that's where you come in!"
   ]
  },
  {
   "cell_type": "markdown",
   "metadata": {
    "collapsed": true
   },
   "source": [
    "## Define the Task, Design the Agent, and Train Your Agent!\n",
    "\n",
    "Amend `task.py` to specify a task of your choosing.  If you're unsure what kind of task to specify, you may like to teach your quadcopter to takeoff, hover in place, land softly, or reach a target pose.  \n",
    "\n",
    "After specifying your task, use the sample agent in `agents/policy_search.py` as a template to define your own agent in `agents/agent.py`.  You can borrow whatever you need from the sample agent, including ideas on how you might modularize your code (using helper methods like `act()`, `learn()`, `reset_episode()`, etc.).\n",
    "\n",
    "Note that it is **highly unlikely** that the first agent and task that you specify will learn well.  You will likely have to tweak various hyperparameters and the reward function for your task until you arrive at reasonably good behavior.\n",
    "\n",
    "As you develop your agent, it's important to keep an eye on how it's performing. Use the code above as inspiration to build in a mechanism to log/save the total rewards obtained in each episode to file.  If the episode rewards are gradually increasing, this is an indication that your agent is learning."
   ]
  },
  {
   "cell_type": "code",
   "execution_count": 11,
   "metadata": {},
   "outputs": [
    {
     "name": "stderr",
     "output_type": "stream",
     "text": [
      "Using TensorFlow backend.\n"
     ]
    },
    {
     "name": "stdout",
     "output_type": "stream",
     "text": [
      "1: 4962.02999767\n",
      "2: 4961.89861366\n",
      "3: 4961.99502232\n",
      "4: 5834.127403\n",
      "5: 6292.85643365\n",
      "6: 9056.47305945\n",
      "7: 73535.3382351\n",
      "8: 6275.01055955\n",
      "9: 6274.71164997\n",
      "10: 6274.97583097\n",
      "11: 6275.29092837\n",
      "12: 6274.89597217\n",
      "13: 6275.00090844\n",
      "14: 6276.16594041\n",
      "15: 12950.3794627\n",
      "16: 5566.36165445\n",
      "17: 14673.5780764\n",
      "18: 8917.44856987\n",
      "19: 3016.38054699\n",
      "20: 7566.98056441\n",
      "21: 11380.2642038\n",
      "22: 5004.07345504\n",
      "23: 10718.5551783\n",
      "24: 5644.4960917\n",
      "25: 13534.5549279\n",
      "26: 14008.777033\n",
      "27: 11921.3507127\n",
      "28: 6889.53616889\n",
      "29: 7329.69717833\n",
      "30: 9190.63153332\n",
      "31: 19011.3143725\n",
      "32: 8882.59088138\n",
      "33: 4757.21513767\n",
      "34: 10812.6833327\n",
      "35: 9792.89677404\n",
      "36: 6270.8812917\n",
      "37: 6490.68895906\n",
      "38: 12646.6802299\n",
      "39: 5829.87212476\n",
      "40: 5843.85273714\n",
      "41: 3016.02820886\n",
      "42: 5416.54439741\n",
      "43: 5829.42196301\n",
      "44: 6275.82275179\n",
      "45: 6271.72912113\n",
      "46: 8459.19875441\n",
      "47: 18294.4324103\n",
      "48: 5385.62109492\n",
      "49: 10499.8263962\n",
      "50: 6922.33542638\n",
      "51: 4535.53954486\n",
      "52: 8712.38979024\n",
      "53: 5858.44285349\n",
      "54: 4525.78809436\n",
      "55: 8707.44372365\n",
      "56: 6488.00063027\n",
      "57: 6276.90937451\n",
      "58: 8482.9174392\n",
      "59: 6275.94176577\n",
      "60: 6044.4737505\n",
      "61: 6276.58377395\n",
      "62: 6276.89550893\n",
      "63: 5826.13552333\n",
      "64: 9163.43563551\n",
      "65: 5615.10344314\n",
      "66: 5843.2163763\n",
      "67: 6275.12823151\n",
      "68: 37672.4492114\n",
      "69: 7608.94112918\n",
      "70: 6734.30851266\n",
      "71: 8029.62080022\n",
      "72: 17931.1197006\n",
      "73: 6681.16791968\n",
      "74: 6567.98039269\n",
      "75: 6675.88669203\n",
      "76: 10792.3410153\n",
      "77: 5175.231337\n",
      "78: 4323.48119116\n",
      "79: 4958.89386329\n",
      "80: 6480.94145388\n",
      "81: 4327.4552742\n",
      "82: 5620.8117154\n",
      "83: 3891.28035178\n",
      "84: 33523.6820525\n",
      "85: 6069.73440643\n",
      "86: 5841.7551879\n",
      "87: 6258.71531477\n",
      "88: 4745.30720199\n",
      "89: 5395.25034645\n",
      "90: 5182.82532831\n",
      "91: 6691.74493179\n",
      "92: 7319.49712117\n",
      "93: 4969.99178143\n",
      "94: 34335.2399083\n",
      "95: 6502.54248017\n",
      "96: 9648.80137546\n",
      "97: 5827.89222827\n",
      "98: 5621.80018292\n",
      "99: 11320.5071134\n",
      "100: 5826.05370569\n",
      "101: 6050.86118333\n",
      "102: 6282.09733642\n",
      "103: 4972.07498721\n",
      "104: 6054.92548299\n",
      "105: 7367.92045819\n",
      "106: 5603.11546455\n",
      "107: 4316.98462199\n",
      "108: 5831.76676457\n",
      "109: 6702.86221394\n",
      "110: 6907.45732279\n",
      "111: 5392.00213274\n",
      "112: 6238.91464855\n",
      "113: 5179.8623695\n",
      "114: 5184.08671208\n",
      "115: 5606.47538943\n",
      "116: 5603.87477811\n",
      "117: 5387.44967997\n",
      "118: 4746.38574694\n",
      "119: 5392.77148307\n",
      "120: 4744.98507119\n",
      "121: 5617.56882526\n",
      "122: 5177.6069099\n",
      "123: 5180.39647841\n",
      "124: 5824.36972984\n",
      "125: 5615.69565017\n",
      "126: 6694.4402913\n",
      "127: 5391.89517984\n",
      "128: 7343.19852263\n",
      "129: 5618.5975154\n",
      "130: 6040.69621445\n",
      "131: 5188.35742497\n",
      "132: 6269.73877348\n",
      "133: 5613.80713401\n",
      "134: 6699.74386702\n",
      "135: 5822.29743933\n",
      "136: 6045.10170314\n",
      "137: 20613.3264409\n",
      "138: 6286.61079259\n",
      "139: 5621.85613285\n",
      "140: 5184.1034684\n",
      "141: 7551.29881927\n",
      "142: 6268.56915584\n",
      "143: 5834.59361503\n",
      "144: 5823.04873968\n",
      "145: 6262.74975336\n",
      "146: 4955.34291637\n",
      "147: 5393.02699275\n",
      "148: 6039.91953991\n",
      "149: 5395.86736045\n",
      "150: 4958.71028232\n",
      "151: 5175.48524639\n",
      "152: 5845.25747457\n",
      "153: 6915.66776802\n",
      "154: 6928.80553256\n",
      "155: 13612.2921864\n",
      "156: 6716.53540966\n",
      "157: 4959.4393062\n",
      "158: 6287.06791752\n",
      "159: 8658.71391574\n",
      "160: 6064.19595659\n",
      "161: 6059.21566015\n",
      "162: 6285.78448203\n",
      "163: 7137.77804616\n",
      "164: 5393.72630203\n",
      "165: 8244.6279889\n",
      "166: 4315.41377052\n",
      "167: 7593.40517859\n",
      "168: 4747.62494371\n",
      "169: 7371.62304982\n",
      "170: 5847.66782052\n",
      "171: 6283.97533894\n",
      "172: 6053.29985811\n",
      "173: 6046.06110361\n",
      "174: 5189.51663256\n",
      "175: 4320.56105704\n",
      "176: 7160.0414939\n",
      "177: 8240.47964963\n",
      "178: 6737.90925567\n",
      "179: 9391.86904407\n",
      "180: 9754.39597815\n",
      "181: 6265.81415431\n",
      "182: 5623.00944195\n",
      "183: 6932.30449947\n",
      "184: 5623.21156808\n",
      "185: 5620.46982297\n",
      "186: 9078.56739081\n",
      "187: 7359.62601127\n",
      "188: 5838.6886487\n",
      "189: 6055.37920621\n",
      "190: 6724.9098977\n",
      "191: 7787.71693287\n",
      "192: 6490.3626289\n",
      "193: 6279.83936738\n",
      "194: 4764.35985093\n",
      "195: 6050.50048012\n",
      "196: 9582.58681269\n",
      "197: 8444.75323448\n",
      "198: 6482.29898132\n",
      "199: 5396.48983491\n",
      "200: 9028.13388092\n",
      "201: 6516.12858291\n",
      "202: 4742.58243899\n",
      "203: 6046.37798007\n",
      "204: 6495.21435986\n",
      "205: 6061.88123063\n",
      "206: 6046.40163501\n",
      "207: 5616.99569364\n",
      "208: 6517.84016232\n",
      "209: 8032.55020377\n",
      "210: 7812.28721327\n",
      "211: 7587.99654602\n",
      "212: 7597.26056764\n",
      "213: 7370.73356286\n",
      "214: 6051.95113917\n",
      "215: 6942.39539366\n",
      "216: 6931.68422704\n",
      "217: 6061.91740851\n",
      "218: 6715.19839138\n",
      "219: 5403.21322806\n",
      "220: 7384.78125778\n",
      "221: 6277.36706291\n",
      "222: 7577.41953834\n",
      "223: 8486.64429816\n",
      "224: 7150.5384373\n",
      "225: 25931.6223559\n",
      "226: 5417.93768104\n",
      "227: 7151.63547227\n",
      "228: 8440.80389118\n",
      "229: 6945.36808374\n",
      "230: 6963.81689511\n",
      "231: 8014.73789529\n",
      "232: 10734.4023913\n",
      "233: 4104.00297797\n",
      "234: 6279.9103073\n",
      "235: 8025.81049487\n",
      "236: 7358.93535283\n",
      "237: 9563.27843689\n",
      "238: 12641.7715729\n",
      "239: 7370.9450624\n",
      "240: 9212.48838634\n",
      "241: 6701.77785157\n",
      "242: 7601.17180313\n",
      "243: 6944.92830811\n",
      "244: 10118.4897913\n",
      "245: 5654.03545512\n",
      "246: 9788.38373873\n",
      "247: 6945.83034743\n",
      "248: 7537.24493262\n",
      "249: 5640.59225395\n",
      "250: 6074.562501\n",
      "251: 7377.15268961\n",
      "252: 6969.09850484\n",
      "253: 7143.50426092\n",
      "254: 7196.8100749\n",
      "255: 8033.10538366\n",
      "256: 6505.38213596\n",
      "257: 6097.08362312\n",
      "258: 7834.19322989\n",
      "259: 8601.24295873\n",
      "260: 7833.25519318\n",
      "261: 8071.44016669\n",
      "262: 9546.91457741\n",
      "263: 7377.12854545\n",
      "264: 6921.74569627\n",
      "265: 7804.40629127\n",
      "266: 9553.91234238\n",
      "267: 6952.93101016\n",
      "268: 12070.9175641\n",
      "269: 7844.48529901\n",
      "270: 6085.65019806\n",
      "271: 5847.93328655\n",
      "272: 9600.18828724\n",
      "273: 8488.82543384\n",
      "274: 8969.52457803\n",
      "275: 6712.03592331\n",
      "276: 7794.4691741\n",
      "277: 7162.07327216\n",
      "278: 8687.63642372\n",
      "279: 9365.95673817\n",
      "280: 41327.5049333\n",
      "281: 8693.21556081\n",
      "282: 7825.00217359\n",
      "283: 6281.91202194\n",
      "284: 13752.574574\n",
      "285: 6054.30975639\n",
      "286: 4318.60522802\n",
      "287: 6724.60675962\n",
      "288: 5636.81026492\n",
      "289: 6294.22718723\n",
      "290: 7821.41916473\n",
      "291: 6941.93696373\n",
      "292: 7602.12085129\n",
      "293: 7834.36784659\n",
      "294: 7589.41254557\n",
      "295: 7603.41156284\n",
      "296: 7382.15331872\n",
      "297: 6498.9441347\n",
      "298: 8019.51600991\n",
      "299: 6960.19692806\n",
      "300: 7169.59305648\n",
      "Training Over\n"
     ]
    }
   ],
   "source": [
    "%reload_ext autoreload\n",
    "%autoreload 2\n",
    "\n",
    "import numpy as np\n",
    "from agents.agent import DDPGAgent\n",
    "from mytask import Task\n",
    "import csv\n",
    "import matplotlib.pyplot as plt\n",
    "\n",
    "runtime = 10\n",
    "init_pose = np.array([0., 0., 10., 0., 0., 0.])  # initial pose\n",
    "init_velocities = np.array([0., 0., 0.])         # initial velocities\n",
    "init_angle_velocities = np.array([0., 0., 0.])   # initial angle velocities\n",
    "target_pos = np.array([0., 0., 100.])\n",
    "\n",
    "# Setup\n",
    "task = Task(init_pose, init_velocities, init_angle_velocities, runtime, target_pos=target_pos)\n",
    "agent = DDPGAgent(task)\n",
    "\n",
    "num_episodes = 300\n",
    "best_total_reward = -np.inf\n",
    "best_stat = None\n",
    "rewards = []\n",
    "best_results = None\n",
    "\n",
    "labels = ['time', 'x', 'y', 'z', 'phi', 'theta', 'psi', 'x_velocity',\n",
    "          'y_velocity', 'z_velocity', 'phi_velocity', 'theta_velocity',\n",
    "          'psi_velocity', 'rotor_speed1', 'rotor_speed2', 'rotor_speed3', 'rotor_speed4']\n",
    "\n",
    "# Run the simulation, and save the results.\n",
    "for i_episode in range(1, num_episodes+1):\n",
    "    \n",
    "    done = False\n",
    "    state = agent.reset_episode()    \n",
    "    total_reward = 0.0\n",
    "    \n",
    "    results_episode = {x : [] for x in labels}\n",
    "        \n",
    "    while True:\n",
    "        action = agent.act(state)\n",
    "        next_state, reward, done = task.step(action)\n",
    "        agent.step(action, reward, next_state, done)\n",
    "        state = next_state\n",
    "        total_reward += reward\n",
    "\n",
    "        result = [task.sim.time] + list(task.sim.pose) + list(task.sim.v) + list(task.sim.angular_v) + list(action)\n",
    "        \n",
    "        for ii in range(len(labels)):\n",
    "            results_episode[labels[ii]].append(result[ii])\n",
    "\n",
    "        if done:\n",
    "            rewards.append(total_reward)\n",
    "            \n",
    "            if total_reward >= best_total_reward:\n",
    "                best_total_reward = total_reward\n",
    "                best_results = results_episode \n",
    "            \n",
    "            break\n",
    "            \n",
    "    print(str(i_episode) + ': ' + str(total_reward))\n",
    "    \n",
    "print(\"Training Over\")\n",
    "\n"
   ]
  },
  {
   "cell_type": "markdown",
   "metadata": {
    "collapsed": true
   },
   "source": [
    "## Plot the Rewards\n",
    "\n",
    "Once you are satisfied with your performance, plot the episode rewards, either from a single run, or averaged over multiple runs. "
   ]
  },
  {
   "cell_type": "code",
   "execution_count": 12,
   "metadata": {
    "scrolled": true
   },
   "outputs": [
    {
     "data": {
      "text/plain": [
       "<matplotlib.legend.Legend at 0x7f1e20dcc550>"
      ]
     },
     "execution_count": 12,
     "metadata": {},
     "output_type": "execute_result"
    },
    {
     "data": {
      "image/png": "[encoded data removed]",
      "text/plain": [
       "<matplotlib.figure.Figure at 0x7f1e20dcc4e0>"
      ]
     },
     "metadata": {
      "needs_background": "light"
     },
     "output_type": "display_data"
    }
   ],
   "source": [
    "import matplotlib.pyplot as plt\n",
    "plt.plot(rewards, label='Total Reward / Epoch')\n",
    "plt.legend()"
   ]
  },
  {
   "cell_type": "code",
   "execution_count": 13,
   "metadata": {},
   "outputs": [
    {
     "data": {
      "text/plain": [
       "<matplotlib.legend.Legend at 0x7f1e20d5f9b0>"
      ]
     },
     "execution_count": 13,
     "metadata": {},
     "output_type": "execute_result"
    },
    {
     "data": {
      "image/png": "[encoded data removed]",
      "text/plain": [
       "<matplotlib.figure.Figure at 0x7f1e20dcc1d0>"
      ]
     },
     "metadata": {
      "needs_background": "light"
     },
     "output_type": "display_data"
    }
   ],
   "source": [
    "plt.plot(best_results['time'], best_results['x'], label='x')\n",
    "plt.plot(best_results['time'], best_results['y'], label='y')\n",
    "plt.plot(best_results['time'], best_results['z'], label='z')\n",
    "plt.legend()"
   ]
  },
  {
   "cell_type": "code",
   "execution_count": 17,
   "metadata": {},
   "outputs": [
    {
     "data": {
      "text/plain": [
       "<matplotlib.legend.Legend at 0x7f1e2173e2e8>"
      ]
     },
     "execution_count": 17,
     "metadata": {},
     "output_type": "execute_result"
    },
    {
     "data": {
      "image/png": "[encoded data removed]",
      "text/plain": [
       "<matplotlib.figure.Figure at 0x7f1e2122f630>"
      ]
     },
     "metadata": {
      "needs_background": "light"
     },
     "output_type": "display_data"
    }
   ],
   "source": [
    "plt.plot(best_results['time'], best_results['rotor_speed1'], label='Rotor 1 revolutions / second')\n",
    "plt.plot(best_results['time'], best_results['rotor_speed2'], label='Rotor 2 revolutions / second')\n",
    "plt.plot(best_results['time'], best_results['rotor_speed3'], label='Rotor 3 revolutions / second')\n",
    "plt.plot(best_results['time'], best_results['rotor_speed4'], label='Rotor 4 revolutions / second')\n",
    "plt.legend()"
   ]
  },
  {
   "cell_type": "code",
   "execution_count": 16,
   "metadata": {},
   "outputs": [
    {
     "data": {
      "text/plain": [
       "[<matplotlib.lines.Line2D at 0x7f1e21685fd0>]"
      ]
     },
     "execution_count": 16,
     "metadata": {},
     "output_type": "execute_result"
    },
    {
     "data": {
      "image/png": "[encoded data removed]",
      "text/plain": [
       "<matplotlib.figure.Figure at 0x7f1e20c94198>"
      ]
     },
     "metadata": {
      "needs_background": "light"
     },
     "output_type": "display_data"
    }
   ],
   "source": [
    "plt.plot(best_results['time'], best_results['rotor_speed1'], label='Rotor 1 revolutions / second')"
   ]
  },
  {
   "cell_type": "code",
   "execution_count": 18,
   "metadata": {},
   "outputs": [
    {
     "data": {
      "text/plain": [
       "<matplotlib.legend.Legend at 0x7f1e2178b278>"
      ]
     },
     "execution_count": 18,
     "metadata": {},
     "output_type": "execute_result"
    },
    {
     "data": {
      "image/png": "[encoded data removed]",
      "text/plain": [
       "<matplotlib.figure.Figure at 0x7f1e217097b8>"
      ]
     },
     "metadata": {
      "needs_background": "light"
     },
     "output_type": "display_data"
    }
   ],
   "source": [
    "plt.plot(best_results['time'], best_results['phi'], label='phi')\n",
    "plt.plot(best_results['time'], best_results['theta'], label='theta')\n",
    "plt.plot(best_results['time'], best_results['psi'], label='psi')\n",
    "plt.legend()"
   ]
  },
  {
   "cell_type": "code",
   "execution_count": 19,
   "metadata": {},
   "outputs": [
    {
     "data": {
      "text/plain": [
       "<matplotlib.legend.Legend at 0x7f1e2186a748>"
      ]
     },
     "execution_count": 19,
     "metadata": {},
     "output_type": "execute_result"
    },
    {
     "data": {
      "image/png": "[encoded data removed]",
      "text/plain": [
       "<matplotlib.figure.Figure at 0x7f1e20c6edd8>"
      ]
     },
     "metadata": {
      "needs_background": "light"
     },
     "output_type": "display_data"
    }
   ],
   "source": [
    "plt.plot(best_results['time'], best_results['phi_velocity'], label='phi_velocity')\n",
    "plt.plot(best_results['time'], best_results['theta_velocity'], label='theta_velocity')\n",
    "plt.plot(best_results['time'], best_results['psi_velocity'], label='psi_velocity')\n",
    "plt.legend()"
   ]
  },
  {
   "cell_type": "markdown",
   "metadata": {
    "collapsed": true
   },
   "source": [
    "## Reflections\n",
    "\n",
    "**Question 1**: Describe the task that you specified in `task.py`.  How did you design the reward function?\n",
    "\n",
    "**Answer**:\n",
    "Task that i have specified in task.py is to takeoff from initial postion (0,0,10) and hover till target position (0,0,100). As the agent work really well with reward based system i have utilized reward or penality mechanism. Following method has been utilized:\n",
    "- Calculated the coordinate distance from the target position and added a penalty based on far it ended up from the target position\n",
    "- Added a bonus of 100 points for it successfully taking off and not crashing.\n",
    "- Added extra reward 1000 for reaching as close to destination."
   ]
  },
  {
   "cell_type": "markdown",
   "metadata": {},
   "source": [
    "**Question 2**: Discuss your agent briefly, using the following questions as a guide:\n",
    "\n",
    "- What learning algorithm(s) did you try? What worked best for you?\n",
    "- What was your final choice of hyperparameters (such as $\\alpha$, $\\gamma$, $\\epsilon$, etc.)?\n",
    "- What neural network architecture did you use (if any)? Specify layers, sizes, activation functions, etc.\n",
    "\n",
    "**Answer**:\n",
    "DDPG agent was used as learning algorithm.\n",
    "Final choice of hyper-parameters were:\n",
    "exploration_mu = 0\n",
    "exploration_theta = 0.15\n",
    "exploration_sigma = 0.1        \n",
    "gamma = 0.99  # discount factor\n",
    "tau = 0.01  # for soft update of target parameters\n",
    "\n",
    "In terms of neural network:\n",
    "\n",
    "\n",
    "for Agent:\n",
    "32-64-32 layer network with a RELU activation after each layer followed by a final Dense layer with a sigmoid action at the output. The output then gets scaled to the required range by means of a lambda layer. The adam optimizer is used for optimization.\n",
    "\n",
    "For Critic:\n",
    "Two-path network. The first path estimates the state and the second path the action. Each path comprises of two 32-64 node layers. Both paths are then added up and passed through a final RELU action layer. Since we have multiple neurons in the output layer we add another densely connected layer (one output neuron) that represents the Q-value. The adam optimizer is used for optimization."
   ]
  },
  {
   "cell_type": "markdown",
   "metadata": {},
   "source": [
    "**Question 3**: Using the episode rewards plot, discuss how the agent learned over time.\n",
    "\n",
    "- Was it an easy task to learn or hard?\n",
    "- Was there a gradual learning curve, or an aha moment?\n",
    "- How good was the final performance of the agent? (e.g. mean rewards over the last 10 episodes)\n",
    "\n",
    "**Answer**:\n",
    "It was indeed a very challenging and difficult task to learn. As from intial few reads its very difficult to understand the exact requirement of the assignment.\n",
    "It was a gradual learning curve. It was difficult to end up with a final value of reward and penalty variables. \n",
    "Final performance of the agent was great as reward is saturated for final episodes with a mean of 6000.The highest rewards I achieved were around 80000. The diagrams above show that the quadcopter learned to get close to the target."
   ]
  },
  {
   "cell_type": "markdown",
   "metadata": {},
   "source": [
    "**Question 4**: Briefly summarize your experience working on this project. You can use the following prompts for ideas.\n",
    "\n",
    "- What was the hardest part of the project? (e.g. getting started, plotting, specifying the task, etc.)\n",
    "- Did you find anything interesting in how the quadcopter or your agent behaved?\n",
    "\n",
    "**Answer**:\n",
    "\n",
    "Hardest part of the project in validation of the result as there is no way we can prove that whether or not our quadcopter is flying stable or haphazardly.However there were difficulties tweaking the reward function. \n",
    "\n",
    "Interesting part about the agent was reward was really good during training in intial episodes and rewards decrease dramatically on large number of episodes and finally saturated there. "
   ]
  },
  {
   "cell_type": "code",
   "execution_count": null,
   "metadata": {},
   "outputs": [],
   "source": []
  }
 ],
 "metadata": {
  "anaconda-cloud": {},
  "kernelspec": {
   "display_name": "Python 3",
   "language": "python",
   "name": "python3"
  },
  "language_info": {
   "codemirror_mode": {
    "name": "ipython",
    "version": 3
   },
   "file_extension": ".py",
   "mimetype": "text/x-python",
   "name": "python",
   "nbconvert_exporter": "python",
   "pygments_lexer": "ipython3",
   "version": "3.6.3"
  }
 },
 "nbformat": 4,
 "nbformat_minor": 2
}
